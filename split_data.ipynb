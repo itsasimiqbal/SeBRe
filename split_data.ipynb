{
 "cells": [
  {
   "cell_type": "code",
   "execution_count": 5,
   "metadata": {},
   "outputs": [],
   "source": [
    "import os\n",
    "import shutil\n",
    "import glob\n",
    "from natsort import natsorted, ns \n",
    "\n",
    "ROOT_DIR = 'Users/Dana/Desktop/Research/BSt'\n",
    "\n",
    "def resetDataDir():\n",
    "    while os.getcwd() != \"/\":\n",
    "        os.chdir('..')\n",
    "\n",
    "    # Replace the following with the entire path to your data\n",
    "    os.chdir(ROOT_DIR)\n",
    "    \n",
    "    \n",
    "resetDataDir()\n",
    "\n"
   ]
  },
  {
   "cell_type": "code",
   "execution_count": 3,
   "metadata": {},
   "outputs": [],
   "source": [
    "# Move images to validation folder\n",
    "resetDataDir()\n",
    "os.chdir(\"IMAGES/NISSL-16/A3-TRAIN\")\n",
    "for i in range(0, len(natsorted(glob.glob(\"*\")))):\n",
    "    resetDataDir()\n",
    "    if (i % 10 == 0):\n",
    "        try:\n",
    "            resetDataDir()\n",
    "            os.chdir(\"IMAGES/NISSL-16\")\n",
    "            shutil.move('A3-TRAIN/section_img_'+str(i), 'A3-VAL/section_img_'+str(i)+'.png')\n",
    "        except FileNotFoundError:\n",
    "            print(\"Skipped moving file with index \" + str(i) + \" because file was not found.\")\n",
    "            continue"
   ]
  },
  {
   "cell_type": "code",
   "execution_count": 6,
   "metadata": {},
   "outputs": [],
   "source": [
    "# Move masks to validation folder\n",
    "resetDataDir()\n",
    "os.chdir(\"MASKS/BW-MASKS-16/A3-TRAIN\")\n",
    "index = 0\n",
    "for i in range(0, len(natsorted(glob.glob(\"*\")))):\n",
    "    resetDataDir()\n",
    "    if (i % 10 == 0):\n",
    "        try:\n",
    "            resetDataDir()\n",
    "            os.chdir(\"MASKS/BW-MASKS-16\")\n",
    "            shutil.move('A3-TRAIN/section_masks_'+str(i), 'A3-VAL/section_masks_'+str(index))\n",
    "            index += 1\n",
    "        except FileNotFoundError:\n",
    "            continue"
   ]
  },
  {
   "cell_type": "code",
   "execution_count": 7,
   "metadata": {},
   "outputs": [],
   "source": [
    "# Rename images in training folder\n",
    "resetDataDir()\n",
    "os.chdir(\"IMAGES/NISSL-16/A3-VAL\")\n",
    "for index, section_fold in enumerate(natsorted(glob.glob(\"*\"))):\n",
    "    os.rename(section_fold, \"section_img_\" + str(index) + \".png\")"
   ]
  },
  {
   "cell_type": "code",
   "execution_count": 8,
   "metadata": {},
   "outputs": [],
   "source": [
    "# Rename masks in training folder\n",
    "resetDataDir()\n",
    "os.chdir(\"MASKS/BW-MASKS-16/A3-TRAIN\")\n",
    "for index, section_fold in enumerate(natsorted(glob.glob(\"*\"))):\n",
    "\n",
    "    \n",
    "    # Rename masks in folder\n",
    "    resetDataDir()\n",
    "    os.chdir(\"MASKS/BW-MASKS-16/A3-TRAIN\")\n",
    "    os.chdir(section_fold)\n",
    "    for image in glob.glob(\"*\"):\n",
    "        parts = image.split(\"_\")\n",
    "        del parts[2]\n",
    "        parts.insert(2, str(index))\n",
    "        new_image_id = \"_\".join(parts)\n",
    "        os.rename(image, new_image_id)\n",
    "        \n",
    "    # Rename folder\n",
    "    resetDataDir()\n",
    "    os.chdir(\"MASKS/BW-MASKS-16/A3-TRAIN\")\n",
    "    os.rename(section_fold, \"section_masks_\" + str(index))\n",
    "        "
   ]
  },
  {
   "cell_type": "code",
   "execution_count": null,
   "metadata": {},
   "outputs": [],
   "source": [
    "# Rename images in validation folder\n",
    "resetDataDir()\n",
    "os.chdir(\"IMAGES/NISSL-SMALL/A1-VAL\")\n",
    "for index, section_fold in enumerate(natsorted(glob.glob(\"*\"))):\n",
    "    os.rename(section_fold, \"section_img_\" + str(index) + \".png\")"
   ]
  },
  {
   "cell_type": "code",
   "execution_count": null,
   "metadata": {},
   "outputs": [],
   "source": [
    "# Rename masks in validation folder\n",
    "resetDataDir()\n",
    "os.chdir(\"MASKS/BW-MASKS-SMALL/A1-VAL\")\n",
    "for index, section_fold in enumerate(natsorted(glob.glob(\"*\"))):\n",
    "    \n",
    "    # Rename masks in folder\n",
    "    resetDataDir()\n",
    "    os.chdir(\"MASKS/BW-MASKS-16/A1-VAL\")\n",
    "    os.chdir(section_fold)\n",
    "    for image in glob.glob(\"*\"):\n",
    "        parts = image.split(\"_\")\n",
    "        del parts[2]\n",
    "        parts.insert(2, str(index))\n",
    "        new_image_id = \"_\".join(parts)\n",
    "        os.rename(image, new_image_id)\n",
    "        \n",
    "    # Rename folder\n",
    "    resetDataDir()\n",
    "    os.chdir(\"MASKS/BW-MASKS-SMALL/A1-VAL\")\n",
    "    os.rename(section_fold, \"section_masks_\" + str(index))\n",
    "        "
   ]
  },
  {
   "cell_type": "code",
   "execution_count": null,
   "metadata": {},
   "outputs": [],
   "source": []
  }
 ],
 "metadata": {
  "kernelspec": {
   "display_name": "Python burke2",
   "language": "python",
   "name": "burke2"
  },
  "language_info": {
   "codemirror_mode": {
    "name": "ipython",
    "version": 3
   },
   "file_extension": ".py",
   "mimetype": "text/x-python",
   "name": "python",
   "nbconvert_exporter": "python",
   "pygments_lexer": "ipython3",
   "version": "3.6.3"
  }
 },
 "nbformat": 4,
 "nbformat_minor": 5
}
