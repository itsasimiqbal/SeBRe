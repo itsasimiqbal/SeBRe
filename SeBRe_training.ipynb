{
 "cells": [
  {
   "cell_type": "markdown",
   "metadata": {
    "id": "CX2nQuVKBxyf"
   },
   "source": [
    "# Developing Brain Atlas through Deep Learning \n",
    "\n",
    "## A. Iqbal, R. Khan, T. Karayannis\n",
    "# .\n",
    "# .\n",
    "# ."
   ]
  },
  {
   "cell_type": "code",
   "execution_count": 1,
   "metadata": {
    "colab": {
     "base_uri": "https://localhost:8080/"
    },
    "executionInfo": {
     "elapsed": 7172,
     "status": "ok",
     "timestamp": 1626787247341,
     "user": {
      "displayName": "Dana Luong",
      "photoUrl": "",
      "userId": "11149291357161653867"
     },
     "user_tz": 240
    },
    "id": "xXYUb0KMBxyo",
    "outputId": "ed7b403a-8537-4357-f64e-e0280ac7a83d",
    "scrolled": true
   },
   "outputs": [
    {
     "name": "stderr",
     "output_type": "stream",
     "text": [
      "Using TensorFlow backend.\n"
     ]
    }
   ],
   "source": [
    "import os\n",
    "import sys\n",
    "import random\n",
    "import math\n",
    "import re\n",
    "import time\n",
    "import numpy as np\n",
    "import cv2\n",
    "import matplotlib\n",
    "import matplotlib.pyplot as plt\n",
    "from config import Config\n",
    "import utils\n",
    "import glob #for selecting png files in training images folder\n",
    "from natsort import natsorted, ns #for sorting filenames in a directory\n",
    "import skimage\n",
    "import pandas\n",
    "import tensorflow as tf\n",
    "\n",
    "import model as modellib\n",
    "import visualize\n",
    "from model import log"
   ]
  },
  {
   "cell_type": "code",
   "execution_count": 2,
   "metadata": {
    "colab": {
     "base_uri": "https://localhost:8080/",
     "height": 351
    },
    "executionInfo": {
     "elapsed": 161,
     "status": "error",
     "timestamp": 1626787250954,
     "user": {
      "displayName": "Dana Luong",
      "photoUrl": "",
      "userId": "11149291357161653867"
     },
     "user_tz": 240
    },
    "id": "fEyJkBrRBxy0",
    "outputId": "746a2782-b2f6-438c-9b93-a8b7102b32db"
   },
   "outputs": [
    {
     "name": "stdout",
     "output_type": "stream",
     "text": [
      "C:\\Users\\dal4019\\Documents\\Bst_Reg\n"
     ]
    }
   ],
   "source": [
    "def resetDataDir():\n",
    "    while os.getcwd() != \"C:\\\\\":\n",
    "        os.chdir('..')\n",
    "\n",
    "    # Replace the following with the entire path to your data\n",
    "    os.chdir('C:\\\\Users\\\\dal4019\\\\Documents\\\\Bst_Reg')\n",
    "\n",
    "# Root directory of the project\n",
    "resetDataDir()\n",
    "ROOT_DIR = os.getcwd()\n",
    "print(ROOT_DIR)\n",
    "\n",
    "# Directory to save logs and trained model\n",
    "MODEL_DIR = os.path.join(ROOT_DIR, \"weights\")\n",
    "\n",
    "# Local path to trained weights file\n",
    "COCO_MODEL_PATH = os.path.join(ROOT_DIR, \"mask_rcnn_coco.h5\")\n"
   ]
  },
  {
   "cell_type": "code",
   "execution_count": 3,
   "metadata": {
    "id": "yWsl3SI7Bxy4"
   },
   "outputs": [
    {
     "name": "stdout",
     "output_type": "stream",
     "text": [
      "25\n"
     ]
    }
   ],
   "source": [
    "RGB_MAPPINGS_DIR = 'rgb_mappings_medulla_v2.csv'\n",
    "\n",
    "resetDataDir()\n",
    "\n",
    "RGB_MAPPINGS = pandas.read_csv(RGB_MAPPINGS_DIR, usecols = ['Label', 'R', 'G', 'B']).dropna()\n",
    "RGB_MAPPINGS_MAP = {}\n",
    "for index, row in RGB_MAPPINGS.iterrows():\n",
    "    r = row[\"R\"]\n",
    "    g = row[\"G\"]\n",
    "    b = row[\"B\"]\n",
    "    label = row[\"Label\"]\n",
    "    RGB_MAPPINGS_MAP[label] =(r,g,b)\n",
    "    \n",
    "RGB_MAPPINGS_LABELS = list(RGB_MAPPINGS_MAP.keys())\n",
    "RGB_MAPPINGS_INDEX = RGB_MAPPINGS.index.values\n",
    "NUM_LABELS = len(RGB_MAPPINGS_INDEX)\n",
    "print(NUM_LABELS)"
   ]
  },
  {
   "cell_type": "markdown",
   "metadata": {
    "id": "MJTK5716Bxy6"
   },
   "source": [
    "## Configurations"
   ]
  },
  {
   "cell_type": "code",
   "execution_count": 4,
   "metadata": {
    "id": "SgSG2JV9Bxy7",
    "outputId": "3aa097ed-69e8-4055-8187-0ca8cbc8414a",
    "scrolled": true
   },
   "outputs": [
    {
     "name": "stdout",
     "output_type": "stream",
     "text": [
      "\n",
      "Configurations:\n",
      "BACKBONE_SHAPES                [[96 96]\n",
      " [48 48]\n",
      " [24 24]\n",
      " [12 12]\n",
      " [ 6  6]]\n",
      "BACKBONE_STRIDES               [4, 8, 16, 32, 64]\n",
      "BATCH_SIZE                     1\n",
      "BBOX_STD_DEV                   [0.1 0.1 0.2 0.2]\n",
      "DETECTION_MAX_INSTANCES        100\n",
      "DETECTION_MIN_CONFIDENCE       0.9\n",
      "DETECTION_NMS_THRESHOLD        0.3\n",
      "GPU_COUNT                      1\n",
      "IMAGES_PER_GPU                 1\n",
      "IMAGE_MAX_DIM                  384\n",
      "IMAGE_MIN_DIM                  384\n",
      "IMAGE_PADDING                  True\n",
      "IMAGE_SHAPE                    [384 384   3]\n",
      "LEARNING_MOMENTUM              0.9\n",
      "LEARNING_RATE                  0.001\n",
      "MASK_POOL_SIZE                 14\n",
      "MASK_SHAPE                     [28, 28]\n",
      "MAX_GT_INSTANCES               100\n",
      "MEAN_PIXEL                     [123.7 116.8 103.9]\n",
      "MINI_MASK_SHAPE                (56, 56)\n",
      "NAME                           brain\n",
      "NUM_CLASSES                    26\n",
      "POOL_SIZE                      7\n",
      "POST_NMS_ROIS_INFERENCE        1000\n",
      "POST_NMS_ROIS_TRAINING         2000\n",
      "ROI_POSITIVE_RATIO             0.33\n",
      "RPN_ANCHOR_RATIOS              [0.5, 1, 2]\n",
      "RPN_ANCHOR_SCALES              (32, 64, 128, 256, 512)\n",
      "RPN_ANCHOR_STRIDE              1\n",
      "RPN_BBOX_STD_DEV               [0.1 0.1 0.2 0.2]\n",
      "RPN_NMS_THRESHOLD              0.7\n",
      "RPN_TRAIN_ANCHORS_PER_IMAGE    256\n",
      "STEPS_PER_EPOCH                2000\n",
      "TRAIN_ROIS_PER_IMAGE           32\n",
      "USE_MINI_MASK                  False\n",
      "USE_RPN_ROIS                   True\n",
      "VALIDATION_STEPS               100\n",
      "WEIGHT_DECAY                   0.0001\n",
      "\n",
      "\n"
     ]
    }
   ],
   "source": [
    "class BrainConfig(Config):\n",
    "    \"\"\"Configuration for training on the brain dataset.\n",
    "    Derives from the base Config class and overrides values specific\n",
    "    to the brain dataset.\n",
    "    \"\"\"\n",
    "    # Give the configuration a recognizable name\n",
    "    NAME = \"brain\"\n",
    "\n",
    "    # Train on 1 GPU and 8 images per GPU. We can put multiple images on each\n",
    "    # GPU because the images are small. Batch size is 8 (GPUs * images/GPU).\n",
    "    GPU_COUNT = 1\n",
    "    IMAGES_PER_GPU = 1 #8 ; reduced to avoid running out of memory when image size increased\n",
    "\n",
    "    # Number of classes (including background)\n",
    "    NUM_CLASSES = 1 + NUM_LABELS  # background + 4 regions\n",
    "\n",
    "    # Use small images for faster training. Set the limits of the small side\n",
    "    # the large side, and that determines the image shape.\n",
    "    IMAGE_MIN_DIM = 128*3 #128\n",
    "    IMAGE_MAX_DIM = 128*3#128\n",
    "\n",
    "    # Use smaller anchors because our image and objects are small\n",
    "    RPN_ANCHOR_SCALES = (32, 64, 128, 256, 512)  # anchor side in pixels\n",
    "\n",
    "    # Reduce training ROIs per image because the images are small and have\n",
    "    # few objects. Aim to allow ROI sampling to pick 33% positive ROIs.\n",
    "    TRAIN_ROIS_PER_IMAGE = 32\n",
    "\n",
    "    # Use a small epoch since the data is simple\n",
    "    STEPS_PER_EPOCH = 2000 #100 #steps_per_epoch: Total number of steps (batches of samples) before declaring one epoch finished and starting the next epoch. \n",
    "                          #steps_per_epoch = TotalTrainingSamples / TrainingBatchSize (default to use entire training data per epoch; can modify if required)\n",
    "                          \n",
    "    # use small validation steps since the epoch is small\n",
    "    VALIDATION_STEPS = 100 #5 #validation_steps = TotalvalidationSamples / ValidationBatchSize\n",
    "                         #Ideally, you use all your validation data at once. If you use only part of your validation data, you will get different metrics for each batch, \n",
    "                         #what may make you think that your model got worse or better when it actually didn't, you just measured different validation sets.\n",
    "                         #That's why they suggest validation_steps = uniqueValidationData / batchSize. \n",
    "                         #Theoretically, you test your entire data every epoch, as you theoretically should also train your entire data every epoch.\n",
    "                         #https://stackoverflow.com/questions/45943675/meaning-of-validation-steps-in-keras-sequential-fit-generator-parameter-list\n",
    "    \n",
    "\n",
    "    \n",
    "    ###### Further changes (experimentation):\n",
    "    \n",
    "     # Maximum number of ground truth instances to use in one image\n",
    "    MAX_GT_INSTANCES = 100 #100 #decreased to avoid duplicate instances of each brain region\n",
    "    \n",
    "    # Max number of final detections\n",
    "    DETECTION_MAX_INSTANCES = 100 #100 # #decreased to avoid duplicate instances of each brain region\n",
    "\n",
    "    # Minimum probability value to accept a detected instance\n",
    "    # ROIs below this threshold are skipped\n",
    "    DETECTION_MIN_CONFIDENCE =  0.9 #0.7\n",
    "\n",
    "    # Non-maximum suppression threshold for detection\n",
    "    DETECTION_NMS_THRESHOLD = 0.3 # if overlap ratio is greater than the overlap threshold (0.3), suppress object (https://www.pyimagesearch.com/2014/11/17/non-maximum-suppression-object-detection-python)\n",
    "\n",
    "        \n",
    "    \n",
    "    \n",
    "config = BrainConfig()\n",
    "config.display()"
   ]
  },
  {
   "cell_type": "markdown",
   "metadata": {
    "id": "Msfd_mvzBxy_"
   },
   "source": [
    "## Notebook Preferences"
   ]
  },
  {
   "cell_type": "code",
   "execution_count": 5,
   "metadata": {
    "id": "dI14Q8NxBxzI"
   },
   "outputs": [],
   "source": [
    "def get_ax(rows=1, cols=1, size=8):\n",
    "    \"\"\"Return a Matplotlib Axes array to be used in\n",
    "    all visualizations in the notebook. Provide a\n",
    "    central point to control graph sizes.\n",
    "    \n",
    "    Change the default size attribute to control the size\n",
    "    of rendered images\n",
    "    \"\"\"\n",
    "    _, ax = plt.subplots(rows, cols, figsize=(size*cols, size*rows))\n",
    "    return ax"
   ]
  },
  {
   "cell_type": "code",
   "execution_count": 6,
   "metadata": {},
   "outputs": [
    {
     "name": "stdout",
     "output_type": "stream",
     "text": [
      "4\n"
     ]
    }
   ],
   "source": [
    "# Gets the class ID from file name\n",
    "def get_class_id_from_image_name(filename):\n",
    "    tmp = filename.split(\"_\")[4]\n",
    "    tmp = tmp.split(\".\")[0]\n",
    "    class_id = tmp.split(\"m\")[1]\n",
    "    return int(class_id)\n",
    "    \n",
    "print(get_class_id_from_image_name(\"section_mask_85_NTB_m4.png\"))\n"
   ]
  },
  {
   "cell_type": "markdown",
   "metadata": {
    "id": "SC8bytjOBxzK"
   },
   "source": [
    "## Dataset\n",
    "\n",
    "Load training dataset\n",
    "\n",
    "Extend the Dataset class and add a method to load the brain sections dataset, `load_brain()`, and override the following methods:\n",
    "\n",
    "* load_image()\n",
    "* load_mask()\n",
    "* image_reference() # do not need to for now"
   ]
  },
  {
   "cell_type": "code",
   "execution_count": 7,
   "metadata": {
    "id": "n1opK0yTBxzL"
   },
   "outputs": [],
   "source": [
    "########### Create training dataset:\n",
    "\n",
    "class BrainDataset_Train(utils.Dataset):\n",
    "    \"\"\"Generates the brain section dataset. The dataset consists of locally stored \n",
    "    brain section images, to which file access is required.\n",
    "    \"\"\"\n",
    "\n",
    "    #see utils.py for default def load_image() function; modify according to your dataset\n",
    "    \n",
    "    def load_brain(self): \n",
    "        \"\"\"\n",
    "        for naming image files follow this convention: '*_(image_id).jpg'\n",
    "        \"\"\"\n",
    "        for index, label in enumerate(RGB_MAPPINGS_LABELS):\n",
    "            self.add_class('brain', index+1, label)\n",
    "        \n",
    "        training_images_folder = 'images/TRAINING'\n",
    "        resetDataDir()\n",
    "        os.chdir(training_images_folder)\n",
    "        cwd = os.getcwd()\n",
    "        img_list = glob.glob('*.png')\n",
    "        img_list = natsorted(img_list, key=lambda y: y.lower())\n",
    "        im_id=0\n",
    "        for i in img_list:\n",
    "            img = skimage.io.imread(i) #grayscale = 0\n",
    "            [s1, s2] = np.shape(img)\n",
    "            im_dims = np.shape(img)\n",
    "            self.add_image(\"brain\", image_id=im_id, path = cwd+'/'+i, height = im_dims[0], width = im_dims[1])\n",
    "            im_id+=1\n",
    "                \n",
    "    \n",
    "    def load_mask(self,image_id):\n",
    "        \"\"\"Load instance masks for the given image.\n",
    "        Different datasets use different ways to store masks. This\n",
    "        function converts the different mask format to one format\n",
    "        in the form of a bitmap [height, width, instances].\n",
    "\n",
    "        Returns:\n",
    "        masks: A bool array of shape [height, width, instance count] with\n",
    "            one mask per instance.\n",
    "        class_ids: a 1D array of class IDs of the instance masks.\"\"\"\n",
    "        \n",
    "        masks_folder = 'masks/TRAINING'\n",
    "        \n",
    "        resetDataDir()\n",
    "        os.chdir(masks_folder)\n",
    "        subfolder = glob.glob('*_'+str(image_id))[0]\n",
    "        os.chdir(subfolder) \n",
    "        \n",
    "        info = self.image_info[image_id] \n",
    "        mk_list = glob.glob('*.png')\n",
    "        mask = np.zeros([info['height'], info['width'], NUM_LABELS+1], dtype=np.uint8)\n",
    "        class_ids = np.zeros(len(mk_list))\n",
    "        \n",
    "        for ind, m in enumerate(mk_list):\n",
    "            bin_mask = skimage.io.imread(m,as_gray=True) # grayscale=0\n",
    "            class_id = get_class_id_from_image_name(m)\n",
    "            \n",
    "            mask[:, :, class_id]= bin_mask\n",
    "            \n",
    "            # Map class names to class IDs.\n",
    "            class_ids[ind] = class_id\n",
    "\n",
    "        return mask, class_ids.astype(np.int32)\n",
    "        \n",
    "    \n",
    "    \n",
    "    \n",
    "    \n",
    "########### Create validation dataset:   \n",
    "\n",
    "class BrainDataset_Val(utils.Dataset):\n",
    "    \"\"\"Generates the brain section dataset. The dataset consists of locally stored \n",
    "    brain section images, to which file access is required.\n",
    "    \"\"\"\n",
    "\n",
    "    #see utils.py for default def load_image() function; modify according to your dataset\n",
    "    \n",
    "    def load_brain(self): \n",
    "        \"\"\"\n",
    "        for naming image files follow this convention: '*_(image_id+1).jpg'\n",
    "        \"\"\"\n",
    "        \n",
    "        for index, label in enumerate(RGB_MAPPINGS_LABELS):\n",
    "            self.add_class('brain', index+1, label)\n",
    "        \n",
    "        val_images_folder = 'images/VALIDATION'\n",
    "        resetDataDir()\n",
    "        os.chdir(val_images_folder)\n",
    "        cwd = os.getcwd()\n",
    "        img_list = glob.glob('*.png')\n",
    "        img_list = natsorted(img_list, key=lambda y: y.lower())\n",
    "        im_id=0\n",
    "        for i in img_list:\n",
    "            img = skimage.io.imread(i) #grayscale = 0\n",
    "            [s1, s2] = np.shape(img)\n",
    "            im_dims = np.shape(img)\n",
    "            self.add_image(\"brain\", image_id=im_id, path = cwd+'/'+i, height = im_dims[0], width = im_dims[1])\n",
    "            im_id+=1\n",
    "            \n",
    "            \n",
    "    \n",
    "    def load_mask(self,image_id):\n",
    "        \"\"\"Load instance masks for the given image.\n",
    "        Different datasets use different ways to store masks. This\n",
    "        function converts the different mask format to one format\n",
    "        in the form of a bitmap [height, width, instances].\n",
    "\n",
    "        Returns:\n",
    "        masks: A bool array of shape [height, width, instance count] with\n",
    "            one mask per instance.\n",
    "        class_ids: a 1D array of class IDs of the instance masks.\"\"\"\n",
    "        \n",
    "        masks_folder = 'masks/VALIDATION'\n",
    "\n",
    "        resetDataDir()\n",
    "        os.chdir(masks_folder)\n",
    "        subfolder = glob.glob('*_'+str(image_id))[0]\n",
    "        os.chdir(subfolder) \n",
    "        \n",
    "        info = self.image_info[image_id] \n",
    "        mk_list = glob.glob('*.png')\n",
    "        mask = np.zeros([info['height'], info['width'], NUM_LABELS+1], dtype=np.uint8)\n",
    "        class_ids = np.zeros(len(mk_list))\n",
    "        \n",
    "        for ind, m in enumerate(mk_list):\n",
    "            bin_mask = skimage.io.imread(m,as_gray=True) # grayscale=0\n",
    "            class_id = get_class_id_from_image_name(m)\n",
    "            \n",
    "            mask[:, :, class_id]= bin_mask\n",
    "            \n",
    "            # Map class names to class IDs.\n",
    "            class_ids[ind] = class_id\n",
    "\n",
    "        return mask, class_ids.astype(np.int32)\n",
    "\n",
    "\n"
   ]
  },
  {
   "cell_type": "code",
   "execution_count": null,
   "metadata": {
    "id": "kfwbYWpcBxzN",
    "outputId": "26a6d5f3-5e85-4511-c862-fa155462a42c"
   },
   "outputs": [
    {
     "name": "stdout",
     "output_type": "stream",
     "text": [
      "C:\\Users\\dal4019\\Documents\\Bst_Reg\n"
     ]
    }
   ],
   "source": [
    "# Training dataset\n",
    "resetDataDir()\n",
    "print(os.getcwd())\n",
    "dataset_train = BrainDataset_Train()\n",
    "dataset_train.load_brain()\n",
    "dataset_train.prepare() #does nothing for now \n",
    "print(\"Done processing training data.\")"
   ]
  },
  {
   "cell_type": "code",
   "execution_count": null,
   "metadata": {},
   "outputs": [],
   "source": [
    "# Validation dataset \n",
    "resetDataDir()\n",
    "dataset_val = BrainDataset_Val()\n",
    "dataset_val.load_brain()\n",
    "dataset_val.prepare()#does nothing for now \n",
    "print(\"Done processing validation data.\")"
   ]
  },
  {
   "cell_type": "code",
   "execution_count": null,
   "metadata": {
    "id": "CY7cFDifBxzQ",
    "outputId": "6b8d120b-832d-42ce-982f-5f56cb6a097c",
    "scrolled": true
   },
   "outputs": [],
   "source": [
    "# Load and display random samples\n",
    "resetDataDir()\n",
    "image_ids = np.random.choice(dataset_train.image_ids, 2)\n",
    "for image_id in image_ids:\n",
    "    print(\"IMAGE ID: \" + str(image_id))\n",
    "    image = dataset_train.load_image(image_id)\n",
    "    mask, class_ids = dataset_train.load_mask(image_id)\n",
    "\n",
    "    unique_class_ids = np.unique(class_ids)\n",
    "    mask_area = [np.sum(mask[:, :,i])\n",
    "                 for i in range(0,len(unique_class_ids))]\n",
    "    \n",
    "    visualize.display_top_masks(image, mask, class_ids, dataset_train.class_names, 4) #limit=4, display 4 images"
   ]
  },
  {
   "cell_type": "code",
   "execution_count": null,
   "metadata": {
    "id": "FWPGbuPNBxzT",
    "outputId": "3b29b078-2399-4021-9055-63e1f38b4ae5"
   },
   "outputs": [],
   "source": [
    "# # Verify that all images and masks are the correct size\n",
    "# train_errors = []\n",
    "# for info in dataset_train.image_info:\n",
    "#     # Check training image sizes\n",
    "#     image_id = info[\"id\"]\n",
    "#     info_height = info[\"height\"]\n",
    "#     info_width = info[\"width\"]\n",
    "#     try: \n",
    "#         mask, class_ids = dataset_train.load_mask(image_id)\n",
    "#         [mask_s1, mask_s2, mask_s3] = np.shape(mask)\n",
    "#         if (info_height != mask_s1 or info_width != mask_s2):\n",
    "#             train_errors.append(\"Training Images. Image and mask shape differ for image id: \" + str(image_id) )\n",
    "#     except: \n",
    "#         train_errors.append(\"Training Images. Image and mask shape differ for image id: \" + str(image_id) )\n",
    "#         continue\n",
    "        \n",
    "    \n",
    "#     # Check images not empty\n",
    "#     image = dataset_train.load_image(image_id)\n",
    "#     image_total = np.sum(image)\n",
    "#     if (image_total < 0):\n",
    "#         train_errors.append(\"Training image empty: \" + image_id)\n",
    "    \n",
    "#     # Check masks not empty\n",
    "#     mask = dataset_train.load_mask(image_id)\n",
    "#     mask_total = np.sum(mask)\n",
    "#     if (image_total < 0):\n",
    "#         train_errors.append(\"Training mask empty: \" + image_id)\n",
    "        \n",
    "        \n",
    "# val_errors = []\n",
    "# for info in dataset_val.image_info:\n",
    "#     image_id = info[\"id\"]\n",
    "#     info_height = info[\"height\"]\n",
    "#     info_width = info[\"width\"]\n",
    "#     try:\n",
    "#         mask, class_ids = dataset_val.load_mask(image_id)\n",
    "#         [mask_s1, mask_s2, mask_s3] = np.shape(mask)\n",
    "#         if (info_height != mask_s1 or info_width != mask_s2):\n",
    "#             val_errors.append(\"Validation Images. Image and mask shape differ for image id: \" + str(image_id))\n",
    "#     except: \n",
    "#         val_errors.append(\"Validation Images. Image and mask shape differ for image id: \"+ str(image_id))\n",
    "#         continue\n",
    "        \n",
    "#     # Check images not empty\n",
    "#     image = dataset_val.load_image(image_id)\n",
    "#     image_total = np.sum(image)\n",
    "#     if (image_total < 0):\n",
    "#         val_errors.append(\"Validation image empty: \" + image_id)\n",
    "\n",
    "#     # Check masks not empty\n",
    "#     mask = dataset_val.load_mask(image_id)\n",
    "#     mask_total = np.sum(mask)\n",
    "#     if (image_total < 0):\n",
    "#         val_errors.append(\"Validation mask empty: \" + image_id)\n",
    "\n",
    "# print(train_errors)\n",
    "# print(val_errors)"
   ]
  },
  {
   "cell_type": "markdown",
   "metadata": {
    "id": "DCwqjDHzBxzX"
   },
   "source": [
    "## Create Model"
   ]
  },
  {
   "cell_type": "code",
   "execution_count": null,
   "metadata": {
    "id": "8i711wH5Bxza",
    "outputId": "c589d395-2736-47d9-f904-ec8538e897b8",
    "scrolled": true
   },
   "outputs": [],
   "source": [
    "# Create model in training mode\n",
    "model = modellib.MaskRCNN(mode=\"training\", config=config,\n",
    "                          model_dir=MODEL_DIR)"
   ]
  },
  {
   "cell_type": "code",
   "execution_count": null,
   "metadata": {
    "id": "Hn1axmeyBxzc",
    "scrolled": false
   },
   "outputs": [],
   "source": [
    "# Which weights to start with?\n",
    "init_with = \"coco\"  # imagenet, coco, or last\n",
    "\n",
    "if init_with == \"imagenet\":\n",
    "    model.load_weights(model.get_imagenet_weights(), by_name=True)\n",
    "elif init_with == \"coco\":\n",
    "    # Load weights trained on MS COCO, but skip layers that\n",
    "    # are different due to the different number of classes\n",
    "    # See README for instructions to download the COCO weights\n",
    "    model.load_weights(COCO_MODEL_PATH, by_name=True,\n",
    "                       exclude=[\"mrcnn_class_logits\", \"mrcnn_bbox_fc\", \n",
    "                                \"mrcnn_bbox\", \"mrcnn_mask\"])\n",
    "elif init_with == \"last\":\n",
    "    # Load the last model you trained and continue training\n",
    "    model.load_weights(model.find_last()[1], by_name=True)"
   ]
  },
  {
   "cell_type": "markdown",
   "metadata": {
    "id": "tpFQNxtLBxzd"
   },
   "source": [
    "## Training\n",
    "\n",
    "Train in two stages:\n",
    "1. Only the heads. Here we're freezing all the backbone layers and training only the randomly initialized layers (i.e. the ones that we didn't use pre-trained weights from MS COCO). To train only the head layers, pass `layers='heads'` to the `train()` function.\n",
    "\n",
    "2. Fine-tune all layers. For this simple example it's not necessary, but we're including it to show the process. Simply pass `layers=\"all` to train all layers."
   ]
  },
  {
   "cell_type": "code",
   "execution_count": null,
   "metadata": {
    "id": "zOo_8g2ZBxzd",
    "outputId": "3e020c4f-be4e-4a75-bc7d-3390b56a8fd0",
    "scrolled": false
   },
   "outputs": [],
   "source": [
    "# Train the head branches\n",
    "# Passing layers=\"heads\" freezes all layers except the head\n",
    "# layers. You can also pass a regular expression to select\n",
    "# which layers to train by name pattern.\n",
    "model.train(dataset_train, dataset_val, \n",
    "            learning_rate=config.LEARNING_RATE, \n",
    "            epochs=1, \n",
    "            layers='heads') #epochs = 1"
   ]
  },
  {
   "cell_type": "code",
   "execution_count": null,
   "metadata": {
    "id": "xX4PLFP5Bxzi"
   },
   "outputs": [],
   "source": [
    "# Save weights\n",
    "# Typically not needed because callbacks save after every epoch\n",
    "# Uncomment to save manually\n",
    "# resetDataDir()\n",
    "# model_path = os.path.join(MODEL_DIR, \"mask_rcnn_shapes_A4_Ch01_E=5_fine.h5\")\n",
    "# model.keras_model.save_weights(model_path)"
   ]
  },
  {
   "cell_type": "code",
   "execution_count": null,
   "metadata": {
    "id": "aGQVL2EiBxzi",
    "scrolled": true
   },
   "outputs": [],
   "source": [
    "# # Fine tune all layers\n",
    "# # Passing layers=\"all\" trains all layers. You can also \n",
    "# # pass a regular expression to select which layers to\n",
    "# # train by name pattern.\n",
    "model.train(dataset_train, dataset_val, \n",
    "            learning_rate=config.LEARNING_RATE / 10,\n",
    "            epochs=1, \n",
    "            layers=\"all\")#layers=\"heads\" ; epochs = 2"
   ]
  },
  {
   "cell_type": "code",
   "execution_count": null,
   "metadata": {
    "id": "LKQirAN3Bxzj",
    "outputId": "0aca002c-7ec7-433b-8530-5ce2b66677a6"
   },
   "outputs": [],
   "source": [
    "resetDataDir()\n",
    "print(os.getcwd())\n",
    "model_path = os.path.join(\"weights\", \"mask_rcnn_shapes.h5\")\n",
    "model.keras_model.save_weights(model_path)"
   ]
  },
  {
   "cell_type": "markdown",
   "metadata": {},
   "source": [
    "## Detection and Validation"
   ]
  },
  {
   "cell_type": "code",
   "execution_count": null,
   "metadata": {
    "id": "rdznSLooBxzl",
    "outputId": "d481a985-43e2-4402-d659-0beb98326b99"
   },
   "outputs": [],
   "source": [
    "image_id = 10\n",
    "original_image, image_meta, gt_class_id, gt_bbox, gt_mask =\\\n",
    "    modellib.load_image_gt(dataset_val, inference_config, \n",
    "                           image_id, use_mini_mask=False)\n",
    "\n",
    "log(\"original_image\", original_image)\n",
    "log(\"image_meta\", image_meta)\n",
    "log(\"gt_class_id\", gt_class_id)\n",
    "log(\"gt_bbox\", gt_bbox)\n",
    "log(\"gt_mask\", gt_mask)\n",
    "\n",
    "visualize.display_instances (original_image, gt_bbox, gt_mask, gt_class_id, \n",
    "                    dataset_val.class_names, figsize=(15, 15))"
   ]
  },
  {
   "cell_type": "code",
   "execution_count": null,
   "metadata": {
    "id": "z7DxbSpwBxzm",
    "outputId": "2f6b9dea-c19d-4973-d661-d1c462d1bc73"
   },
   "outputs": [],
   "source": [
    "results = model.detect([original_image], verbose=1)\n",
    "plt.figure(figsize=(20,20))\n",
    "\n",
    "r = results[0]\n",
    "print(np.sum(r['rois']))\n",
    "print(np.sum(r['masks']))\n",
    "\n",
    "visualize.display_instances(original_image, r['rois'], r['masks'], r['class_ids'], \n",
    "                            dataset_val.class_names, r['scores'], figsize=(15, 15))#ax=get_ax()"
   ]
  },
  {
   "cell_type": "markdown",
   "metadata": {
    "id": "TmOYlMxnBxzp"
   },
   "source": [
    "## Evaluation"
   ]
  },
  {
   "cell_type": "code",
   "execution_count": null,
   "metadata": {
    "id": "qVDrXwoqBxzp",
    "scrolled": true
   },
   "outputs": [],
   "source": [
    "# Compute VOC-Style mAP @ IoU=0.5\n",
    "# Running on 10 images. Increase for better accuracy.\n",
    "\n",
    "image_ids = np.random.choice(dataset_val.image_ids, 30) \n",
    "APs = []\n",
    "for image_id in image_ids:#for image_id in image_ids:\n",
    "    # Load image and ground truth data\n",
    "    image, image_meta, gt_class_id, gt_bbox, gt_mask =\\\n",
    "        modellib.load_image_gt(dataset_val, inference_config,\n",
    "                               image_id, use_mini_mask=False)\n",
    "    molded_images = np.expand_dims(modellib.mold_image(image, inference_config), 0)\n",
    "    # Run object detection\n",
    "    results = model.detect([image], verbose=1)\n",
    "    r = results[0]\n",
    "    # Compute AP\n",
    "    AP, precisions, recalls, overlaps =\\\n",
    "        utils.compute_ap(gt_bbox, gt_class_id, gt_mask,\n",
    "                         r[\"rois\"], r[\"class_ids\"], r[\"scores\"], r['masks'])\n",
    "    APs.append(AP)\n",
    "    print(precisions)\n",
    "    \n",
    "print(\"mAP: \", np.mean(APs))\n"
   ]
  },
  {
   "cell_type": "markdown",
   "metadata": {
    "id": "sfrsj1vABxzq"
   },
   "source": [
    "# plotting APs\n",
    "# .\n",
    "# ."
   ]
  },
  {
   "cell_type": "code",
   "execution_count": null,
   "metadata": {
    "id": "uN_g7T2jBxzq"
   },
   "outputs": [],
   "source": [
    "np.mean(APs)"
   ]
  },
  {
   "cell_type": "code",
   "execution_count": null,
   "metadata": {
    "id": "JQeChv4jBxzr"
   },
   "outputs": [],
   "source": []
  },
  {
   "cell_type": "code",
   "execution_count": null,
   "metadata": {
    "id": "EzLupP9aBxzr"
   },
   "outputs": [],
   "source": []
  }
 ],
 "metadata": {
  "colab": {
   "collapsed_sections": [
    "DCwqjDHzBxzX",
    "tpFQNxtLBxzd",
    "Acto-lZNBxzj",
    "x72_ZFpeBxzm",
    "TmOYlMxnBxzp"
   ],
   "name": "SeBRe_training_Ch01.ipynb",
   "provenance": []
  },
  "kernelspec": {
   "display_name": "Python [conda env:bstreg] *",
   "language": "python",
   "name": "conda-env-bstreg-py"
  },
  "language_info": {
   "codemirror_mode": {
    "name": "ipython",
    "version": 3
   },
   "file_extension": ".py",
   "mimetype": "text/x-python",
   "name": "python",
   "nbconvert_exporter": "python",
   "pygments_lexer": "ipython3",
   "version": "3.6.3"
  }
 },
 "nbformat": 4,
 "nbformat_minor": 1
}
