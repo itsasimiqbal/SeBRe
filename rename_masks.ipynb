{
 "cells": [
  {
   "cell_type": "code",
   "execution_count": 1,
   "metadata": {},
   "outputs": [],
   "source": [
    "import os\n",
    "import glob #for selecting png files in training images folder\n",
    "from natsort import natsorted, ns #for sorting filenames in a directory\n",
    "import skimage\n",
    "from skimage import io\n",
    "import numpy as np\n",
    "import skimage.transform\n",
    "import matplotlib.pyplot as plt\n",
    "import math\n",
    "import multiprocess\n",
    "\n",
    "def resetDataDir():\n",
    "    while os.getcwd() != \"/\":\n",
    "        os.chdir('..')\n",
    "\n",
    "    # Replace the following with the entire path to your data\n",
    "    os.chdir('Users/Dana/Desktop/Research/BSt')\n",
    "    \n",
    "resetDataDir()"
   ]
  },
  {
   "cell_type": "code",
   "execution_count": 4,
   "metadata": {},
   "outputs": [
    {
     "name": "stdout",
     "output_type": "stream",
     "text": [
      "{'PG': 1, 'TRN': 2, 'V': 3, 'PCG': 4, 'DTN': 5, 'CS': 6, 'PRN': 7, 'LDT': 8, 'LC': 9, 'PB': 10, 'SOC': 11, 'NLL': 12, 'PSV': 13, 'SC': 14, 'IC': 15, 'PBG': 16, 'MEV': 17, 'PAG': 18, 'III': 19, 'MRN': 20, 'SN': 21, 'RN': 22, 'AT': 23, 'IPN': 24, 'DR': 25, 'VTA': 26, 'ND': 27, 'CN': 28, 'SPV': 29, 'CU': 30, 'NTB': 31, 'ECU': 32, 'XII': 33, 'AP': 34, 'VNC': 35, 'NTS': 36, 'VII': 37, 'MARN': 38, 'AMB': 39, 'IO': 40, 'GRN': 41, 'IRN': 42, 'PARN': 43, 'MV ': 44, 'SUV': 45, 'LAV': 46, 'PGRNd': 47, 'PGRNl': 48, 'PRP': 49, 'SPIV': 50, 'VI - dot': 51, 'MDRNv': 52, 'MDRNd': 53, 'GR': 54, 'PPY': 55, 'LRNm': 56, 'X': 57, 'DMX': 58, 'LIN': 59, 'RM ': 60, 'RO': 61, 'TH': 62, 'ZI': 63, 'HY': 64}\n"
     ]
    }
   ],
   "source": [
    "import pandas\n",
    "\n",
    "RGB_MAPPINGS_DIR = 'rgb_mappings.csv'\n",
    "\n",
    "resetDataDir()\n",
    "\n",
    "RGB_MAPPINGS = pandas.read_csv(RGB_MAPPINGS_DIR, usecols = ['Label', 'R', 'G', 'B']).dropna()\n",
    "RGB_MAPPINGS_INDEX = RGB_MAPPINGS.index.values\n",
    "RGB_MAPPINGS_LABELS = RGB_MAPPINGS[\"Label\"]\n",
    "\n",
    "NUM_LABELS = len(RGB_MAPPINGS_INDEX)\n",
    "\n",
    "class_id=1\n",
    "CLASS_NAME_ID_MAP = {}\n",
    "for label in RGB_MAPPINGS_LABELS:\n",
    "    CLASS_NAME_ID_MAP[label] = class_id\n",
    "    class_id += 1\n",
    "print(CLASS_NAME_ID_MAP)"
   ]
  },
  {
   "cell_type": "code",
   "execution_count": 5,
   "metadata": {},
   "outputs": [
    {
     "name": "stdout",
     "output_type": "stream",
     "text": [
      "PG\n"
     ]
    },
    {
     "data": {
      "text/plain": [
       "'section_masks_62_PG_m10.png'"
      ]
     },
     "execution_count": 5,
     "metadata": {},
     "output_type": "execute_result"
    }
   ],
   "source": [
    "test = \"section_masks_62_PG_m0.png\"\n",
    "def get_class_label(file_name):\n",
    "    tmp = file_name.split(\"_\")\n",
    "    return tmp[3]\n",
    "\n",
    "print(get_class_label(test))\n",
    "\n",
    "def replace_class_id(file_name, new_class_id):\n",
    "    tmp = file_name.split(\"_\")\n",
    "    new_class_id = str(new_class_id)\n",
    "    return \"_\".join(tmp[0:4]) + \"_m\" + new_class_id + \".png\"\n",
    "\n",
    "replace_class_id(test,10)"
   ]
  },
  {
   "cell_type": "code",
   "execution_count": null,
   "metadata": {},
   "outputs": [],
   "source": [
    "# Rename masks to start from 0 and go up consecutively by 1\n",
    "resetDataDir()\n",
    "color_mask_dir = \"MASKS/BW-MASKS-SMALL/A1-VAL\"\n",
    "os.chdir(color_mask_dir) \n",
    "all_masked_sections = natsorted(glob.glob('*'))\n",
    "for section_num,section_fold in enumerate(all_masked_sections):\n",
    "    resetDataDir()\n",
    "    os.chdir(color_mask_dir)\n",
    "    os.chdir(section_fold)\n",
    "    for filename in glob.glob(\"*\"):\n",
    "        new_mask_id = CLASS_NAME_ID_MAP[get_class_label(filename)]\n",
    "        new_filename = replace_class_id(filename, new_mask_id)\n",
    "        os.rename(filename, new_filename)"
   ]
  },
  {
   "cell_type": "code",
   "execution_count": null,
   "metadata": {},
   "outputs": [],
   "source": []
  },
  {
   "cell_type": "code",
   "execution_count": null,
   "metadata": {},
   "outputs": [],
   "source": []
  }
 ],
 "metadata": {
  "kernelspec": {
   "display_name": "Python burke2",
   "language": "python",
   "name": "burke2"
  },
  "language_info": {
   "codemirror_mode": {
    "name": "ipython",
    "version": 3
   },
   "file_extension": ".py",
   "mimetype": "text/x-python",
   "name": "python",
   "nbconvert_exporter": "python",
   "pygments_lexer": "ipython3",
   "version": "3.6.3"
  }
 },
 "nbformat": 4,
 "nbformat_minor": 4
}
