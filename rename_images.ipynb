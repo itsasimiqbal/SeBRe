{
 "cells": [
  {
   "cell_type": "code",
   "execution_count": 1,
   "metadata": {},
   "outputs": [],
   "source": [
    "import os\n",
    "import glob #for selecting png files in training images folder\n",
    "from natsort import natsorted, ns #for sorting filenames in a directory\n",
    "import skimage\n",
    "from skimage import io\n",
    "import numpy as np\n",
    "import skimage.transform\n",
    "import matplotlib.pyplot as plt\n",
    "import math\n",
    "import multiprocess\n",
    "\n",
    "def resetDataDir():\n",
    "    while os.getcwd() != \"/\":\n",
    "        os.chdir('..')\n",
    "\n",
    "    # Replace the following with the entire path to your data\n",
    "    os.chdir('Users/Dana/Desktop/Research/BSt')\n",
    "    \n",
    "resetDataDir()"
   ]
  },
  {
   "cell_type": "code",
   "execution_count": 3,
   "metadata": {},
   "outputs": [],
   "source": [
    "resetDataDir()\n",
    "color_mask_dir = \"IMAGES/NISSL-SMALL/A1-TRAIN\"\n",
    "os.chdir(color_mask_dir) \n",
    "all_masked_sections = natsorted(glob.glob('*'))\n",
    "for section_num,section_fold in enumerate(all_masked_sections):\n",
    "    os.rename(section_fold, \"section_img_\"+str(section_num)+\".png\")"
   ]
  },
  {
   "cell_type": "code",
   "execution_count": null,
   "metadata": {},
   "outputs": [],
   "source": []
  }
 ],
 "metadata": {
  "kernelspec": {
   "display_name": "Python burke",
   "language": "python",
   "name": "burke"
  },
  "language_info": {
   "codemirror_mode": {
    "name": "ipython",
    "version": 3
   },
   "file_extension": ".py",
   "mimetype": "text/x-python",
   "name": "python",
   "nbconvert_exporter": "python",
   "pygments_lexer": "ipython3",
   "version": "3.6.13"
  }
 },
 "nbformat": 4,
 "nbformat_minor": 4
}
