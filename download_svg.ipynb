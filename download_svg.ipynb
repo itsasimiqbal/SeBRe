{
 "cells": [
  {
   "cell_type": "code",
   "execution_count": null,
   "metadata": {},
   "outputs": [],
   "source": [
    "# Credit: Script from Lydia Ng at https://gist.github.com/lydiang/12d04cd4ed750f4b24cfc72d67d14387\n",
    "# (Adapted for Python3 and project-specific use)\n",
    "\n",
    "import urllib.request, json\n",
    "import os\n",
    "\n",
    "# \n",
    "# Example python code to download atlas svg files\n",
    "#\n",
    "# Read the Allen Brain Atlas API documentation:\n",
    "# http://help.brain-map.org/display/api/Atlas+Drawings+and+Ontologies\n",
    "#\n",
    "# In the table find the atlas that you looking for.\n",
    "# Take note of the \"Atlas ID\" and \"GraphicGroupLabels\"\n",
    "#\n",
    "\n",
    "# Specify output directory for files\n",
    "output_directory = \"allen_svg\"\n",
    "\n",
    "# Specify downsample factor \n",
    "downsample = 1\n",
    "\n",
    "# Copy \"Atlas ID\" here\n",
    "atlas_id = 1\n",
    "\n",
    "# Copy \"GraphicGroupLabels\" here\n",
    "group_labels = [28,159226751]\n",
    "\n",
    "# RMA query to find images for atlas\n",
    "query_url = \"http://api.brain-map.org/api/v2/data/query.json?criteria=model::AtlasImage\"\n",
    "query_url += \",rma::criteria,[annotated$eqtrue]\"\n",
    "query_url += \",atlas_data_set(atlases[id$eq%d])\" % (atlas_id)\n",
    "query_url += \",rma::options[order$eq'sub_images.section_number'][num_rows$eqall]\"\n",
    "\n",
    "response = urllib.request.urlopen(query_url)\n",
    "images = json.loads(response.read())['msg']\n",
    "\n",
    "# make output directory\n",
    "if not os.path.exists( output_directory ) :\n",
    "    os.makedirs( output_directory )\n",
    "\n",
    "# loop through each image\n",
    "for i in images[70:len(images)-1] :\n",
    "\n",
    "    print (i['section_number'])\n",
    "    \n",
    "    # download svg     \n",
    "    svg_url = \"http://api.brain-map.org/api/v2/svg_download/%d?\" % (i['id'])\n",
    "    svg_url += \"groups=%s\" % ( \",\".join([str(g) for g in group_labels]))\n",
    "    svg_url += \"&downsample=%d\" % (downsample)\n",
    "    svg_path = os.path.join( output_directory, '%04d_%d.svg' % (i['section_number'],i['id'])   )\n",
    "    urllib.request.urlretrieve(svg_url, svg_path)\n",
    "\n",
    "    "
   ]
  },
  {
   "cell_type": "code",
   "execution_count": null,
   "metadata": {},
   "outputs": [],
   "source": [
    "svg_url = \"http://api.brain-map.org/api/v2/svg_download/%d?\" % (i['id'])\n",
    "svg_url += \"groups=%s\" % ( \",\".join([str(g) for g in group_labels]))\n",
    "svg_url += \"&downsample=%d\" % (downsample)\n",
    "svg_path = os.path.join( output_directory, '%04d_%d.svg' % (i['section_number'],i['id'])   )\n",
    "urllib.request.urlretrieve(svg_url, svg_path)"
   ]
  },
  {
   "cell_type": "code",
   "execution_count": null,
   "metadata": {},
   "outputs": [],
   "source": []
  }
 ],
 "metadata": {
  "kernelspec": {
   "display_name": "Python py36",
   "language": "python",
   "name": "py36"
  },
  "language_info": {
   "codemirror_mode": {
    "name": "ipython",
    "version": 3
   },
   "file_extension": ".py",
   "mimetype": "text/x-python",
   "name": "python",
   "nbconvert_exporter": "python",
   "pygments_lexer": "ipython3",
   "version": "3.8.5"
  }
 },
 "nbformat": 4,
 "nbformat_minor": 4
}
